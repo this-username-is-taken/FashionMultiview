{
 "cells": [
  {
   "cell_type": "code",
   "execution_count": null,
   "metadata": {},
   "outputs": [],
   "source": [
    "import glob, os, json\n",
    "import numpy as np\n",
    "import scipy.misc\n",
    "from PIL import Image\n",
    "from shutil import copyfile"
   ]
  },
  {
   "cell_type": "code",
   "execution_count": null,
   "metadata": {},
   "outputs": [],
   "source": [
    "# Resize\n",
    "\n",
    "size = 128, 128\n",
    "\n",
    "src_path = \"S:\\\\Projects\\\\Fuse\\\\Batch_1\\\\\"\n",
    "dst_path = \"S:\\\\Projects\\\\Fuse\\\\128x128\\\\\"\n",
    "\n",
    "files = os.listdir(src_path)\n",
    "\n",
    "for file in files:\n",
    "    im = np.array(Image.open(path + file).resize(size))[:,:,:3]\n",
    "    scipy.misc.imsave(dst_path + file.split(\".\")[0] + \".jpg\", im)"
   ]
  },
  {
   "cell_type": "code",
   "execution_count": null,
   "metadata": {},
   "outputs": [],
   "source": [
    "# Crop\n",
    "\n",
    "src_path = \"S:\\\\Projects\\\\Fuse\\\\Batch_1\\\\\"\n",
    "dst_path = \"S:\\\\Projects\\\\Fuse\\\\128x128\\\\\"\n",
    "\n",
    "files = os.listdir(src_path)\n",
    "\n",
    "c = [15, 62]\n",
    "s = [128, 128]\n",
    "size = 256, 256\n",
    "\n",
    "for file in files:\n",
    "    im = np.array(Image.open(src_path + file).resize(size))[c[0]:c[0]+s[0],c[1]:c[1]+s[1],:3]\n",
    "    scipy.misc.imsave(dst_path + file.split(\".\")[0] + \".jpg\", im)"
   ]
  },
  {
   "cell_type": "code",
   "execution_count": null,
   "metadata": {},
   "outputs": [],
   "source": [
    "# Copy\n",
    "\n",
    "src_path = \"S:\\\\Projects\\\\Fuse\\\\Batch_2\\\\\"\n",
    "dst_path = \"H:\\\\vincentw\\\\Projects\\\\FashionMultiview\\\\results\\\\data\\\\\"\n",
    "\n",
    "for i in range(0, 10, 3):\n",
    "    for j in range(0, 360, 60):\n",
    "        filename = str(i) + \"_\" + str(j) + \".png\"\n",
    "        copyfile(src_path + filename, dst_path + filename)"
   ]
  },
  {
   "cell_type": "code",
   "execution_count": null,
   "metadata": {},
   "outputs": [],
   "source": [
    "# Concat\n",
    "\n",
    "src_path = \"H:\\\\vincentw\\\\Projects\\\\FashionMultiview\\\\results\\\\data\\\\\"\n",
    "\n",
    "collage = []\n",
    "\n",
    "for i in range(0, 10, 3):\n",
    "    tmp = []\n",
    "    for j in range(0, 360, 60):\n",
    "        filename = src_path + str(i) + \"_\" + str(j) + \".png\"\n",
    "        img = np.array(Image.open(filename))\n",
    "        tmp.append(img)\n",
    "    \n",
    "    tmp = np.hstack(np.array(tmp))\n",
    "    collage.append(tmp)\n",
    "\n",
    "collage = np.vstack(np.array(collage))\n",
    "scipy.misc.imsave(src_path + \"data.png\", collage)"
   ]
  }
 ],
 "metadata": {
  "kernelspec": {
   "display_name": "Python 3",
   "language": "python",
   "name": "python3"
  },
  "language_info": {
   "codemirror_mode": {
    "name": "ipython",
    "version": 3
   },
   "file_extension": ".py",
   "mimetype": "text/x-python",
   "name": "python",
   "nbconvert_exporter": "python",
   "pygments_lexer": "ipython3",
   "version": "3.5.4"
  }
 },
 "nbformat": 4,
 "nbformat_minor": 2
}
