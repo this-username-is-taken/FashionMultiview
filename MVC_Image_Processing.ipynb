{
 "cells": [
  {
   "cell_type": "code",
   "execution_count": null,
   "metadata": {},
   "outputs": [],
   "source": [
    "import glob, os\n",
    "import numpy as np\n",
    "import scipy.misc\n",
    "from PIL import Image\n",
    "from shutil import copyfile"
   ]
  },
  {
   "cell_type": "code",
   "execution_count": null,
   "metadata": {},
   "outputs": [],
   "source": [
    "# Resize\n",
    "\n",
    "size = 128, 128\n",
    "total = 161260\n",
    "\n",
    "for i in range(33820, total):\n",
    "    path = \"S:\\\\Projects\\\\MVC\\\\images\\\\\" + str(i) + \".jpg\"\n",
    "    im = Image.open(path).resize(size)\n",
    "    im.save(\"S:\\\\Projects\\\\MVC\\\\128x128\\\\\" + str(i) + \".jpg\", \"JPEG\")"
   ]
  },
  {
   "cell_type": "code",
   "execution_count": null,
   "metadata": {},
   "outputs": [],
   "source": [
    "# Copy\n",
    "\n",
    "src_path = \"S:\\\\Projects\\\\MVC\\\\128x128_clean\\\\\"\n",
    "dst_path = \"H:\\\\vincentw\\\\Projects\\\\CycleGAN-tensorflow\\\\datasets\\\\front2left\\\\\"\n",
    "\n",
    "for i in range(0, 26844, 4):\n",
    "    copyfile(src_path + str(i) + \".jpg\", dst_path + \"trainA\\\\\" + str(i) + \".jpg\")\n",
    "    copyfile(src_path + str(i + 1) + \".jpg\", dst_path + \"trainB\\\\\" + str(i + 1) + \".jpg\")"
   ]
  },
  {
   "cell_type": "code",
   "execution_count": null,
   "metadata": {},
   "outputs": [],
   "source": [
    "# Concat\n",
    "\n",
    "src_path = \"S:\\\\Projects\\\\MVC\\\\128x128_clean\\\\\"\n",
    "dst_path = \"S:\\\\Projects\\\\MVC\\\\128x128_concat\\\\\"\n",
    "\n",
    "for i in range(0, 26844, 4):\n",
    "    \n",
    "    path1 = src_path + str(i) + \".jpg\"\n",
    "    path2 = src_path + str(i+1) + \".jpg\"\n",
    "    im1 = np.array(Image.open(path1))\n",
    "    im2 = np.array(Image.open(path2))\n",
    "    im = np.concatenate((im1, im2), axis=1)\n",
    "    scipy.misc.imsave(dst_path + str(i) + \".jpg\", im)"
   ]
  },
  {
   "cell_type": "code",
   "execution_count": null,
   "metadata": {},
   "outputs": [],
   "source": [
    "# Test\n",
    "\n",
    "path = \"S:\\\\Projects\\\\MVC\\\\64x64_test\\\\\"\n",
    "\n",
    "for file in os.listdir(path):\n",
    "    im = np.array(Image.open(path + file))\n",
    "    # A->B\n",
    "    # im[:,int(im.shape[1]/2):,:] = 255\n",
    "    # B->A\n",
    "    im = np.concatenate((im[:,int(im.shape[1]/2):,:], np.full((im.shape[0], int(im.shape[1]/2), im.shape[2]), 255)), axis=1)\n",
    "    scipy.misc.imsave(path + \"_\" + file, im)"
   ]
  }
 ],
 "metadata": {
  "kernelspec": {
   "display_name": "Python 3",
   "language": "python",
   "name": "python3"
  },
  "language_info": {
   "codemirror_mode": {
    "name": "ipython",
    "version": 3
   },
   "file_extension": ".py",
   "mimetype": "text/x-python",
   "name": "python",
   "nbconvert_exporter": "python",
   "pygments_lexer": "ipython3",
   "version": "3.5.4"
  }
 },
 "nbformat": 4,
 "nbformat_minor": 2
}
