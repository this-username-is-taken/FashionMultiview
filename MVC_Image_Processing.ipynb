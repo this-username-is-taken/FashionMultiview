{
 "cells": [
  {
   "cell_type": "code",
   "execution_count": 4,
   "metadata": {},
   "outputs": [],
   "source": [
    "import glob, os, json\n",
    "import numpy as np\n",
    "import scipy.misc\n",
    "from PIL import Image\n",
    "from shutil import copyfile"
   ]
  },
  {
   "cell_type": "code",
   "execution_count": 5,
   "metadata": {},
   "outputs": [],
   "source": [
    "mvc_info = json.load(open(r\"S:\\Projects\\MVC\\mvc_info.json\"))"
   ]
  },
  {
   "cell_type": "code",
   "execution_count": null,
   "metadata": {},
   "outputs": [],
   "source": [
    "# Resize\n",
    "\n",
    "size = 128, 128\n",
    "total = 161260\n",
    "\n",
    "for i in range(33820, total):\n",
    "    path = \"S:\\\\Projects\\\\MVC\\\\images\\\\\" + str(i) + \".jpg\"\n",
    "    im = Image.open(path).resize(size)\n",
    "    im.save(\"S:\\\\Projects\\\\MVC\\\\128x128\\\\\" + str(i) + \".jpg\", \"JPEG\")"
   ]
  },
  {
   "cell_type": "code",
   "execution_count": null,
   "metadata": {},
   "outputs": [],
   "source": [
    "# Copy\n",
    "\n",
    "src_path = \"S:\\\\Projects\\\\MVC\\\\128x128_clean\\\\\"\n",
    "dst_path = \"H:\\\\vincentw\\\\Projects\\\\CycleGAN-tensorflow\\\\datasets\\\\front2left\\\\\"\n",
    "\n",
    "for i in range(0, 26844, 4):\n",
    "    copyfile(src_path + str(i) + \".jpg\", dst_path + \"trainA\\\\\" + str(i) + \".jpg\")\n",
    "    copyfile(src_path + str(i + 1) + \".jpg\", dst_path + \"trainB\\\\\" + str(i + 1) + \".jpg\")"
   ]
  },
  {
   "cell_type": "code",
   "execution_count": 7,
   "metadata": {},
   "outputs": [],
   "source": [
    "# Clean\n",
    "\n",
    "counter = 26840\n",
    "src_path = r\"S:\\\\Projects\\\\MVC\\\\128x128\\\\\"\n",
    "dst_path = r\"S:\\\\Projects\\\\MVC\\\\128x128_clean\\\\\"\n",
    "\n",
    "for i in range(30000, 60000-3):\n",
    "    if mvc_info[i]['productId'] != mvc_info[i+1]['productId'] or \\\n",
    "    mvc_info[i+1]['productId'] != mvc_info[i+2]['productId'] or \\\n",
    "    mvc_info[i+2]['productId'] != mvc_info[i+3]['productId']:\n",
    "        continue\n",
    "    if mvc_info[i]['styleId'] != mvc_info[i+1]['styleId'] or \\\n",
    "    mvc_info[i+1]['styleId'] != mvc_info[i+2]['styleId'] or \\\n",
    "    mvc_info[i+2]['styleId'] != mvc_info[i+3]['styleId']:\n",
    "        continue\n",
    "    if mvc_info[i]['colourId'] != mvc_info[i+1]['colourId'] or \\\n",
    "    mvc_info[i+1]['colourId'] != mvc_info[i+2]['colourId'] or \\\n",
    "    mvc_info[i+2]['colourId'] != mvc_info[i+3]['colourId']:\n",
    "        continue\n",
    "    if mvc_info[i]['viewId'] == 0 and mvc_info[i+1]['viewId'] == 1 and mvc_info[i+2]['viewId'] == 2 and mvc_info[i+3]['viewId'] == 3:\n",
    "        #print(i)\n",
    "        copyfile(src_path + str(i) + \".jpg\", dst_path + str(counter) + \".jpg\")\n",
    "        copyfile(src_path + str(i+1) + \".jpg\", dst_path + str(counter+1) + \".jpg\")\n",
    "        copyfile(src_path + str(i+2) + \".jpg\", dst_path + str(counter+2) + \".jpg\")\n",
    "        copyfile(src_path + str(i+3) + \".jpg\", dst_path + str(counter+3) + \".jpg\")\n",
    "        counter = counter + 4"
   ]
  },
  {
   "cell_type": "code",
   "execution_count": null,
   "metadata": {},
   "outputs": [],
   "source": [
    "# Concat\n",
    "\n",
    "src_path = \"S:\\\\Projects\\\\MVC\\\\128x128_clean\\\\\"\n",
    "dst_path = \"S:\\\\Projects\\\\MVC\\\\128x128_concat\\\\\"\n",
    "\n",
    "for i in range(0, 26844, 4):\n",
    "    \n",
    "    path1 = src_path + str(i) + \".jpg\"\n",
    "    path2 = src_path + str(i+1) + \".jpg\"\n",
    "    im1 = np.array(Image.open(path1))\n",
    "    im2 = np.array(Image.open(path2))\n",
    "    im = np.concatenate((im1, im2), axis=1)\n",
    "    scipy.misc.imsave(dst_path + str(i) + \".jpg\", im)"
   ]
  },
  {
   "cell_type": "code",
   "execution_count": 13,
   "metadata": {},
   "outputs": [],
   "source": [
    "# VAE Concat\n",
    "\n",
    "gt_path = \"S:\\\\Projects\\\\MVC\\\\128x128_clean\\\\\"\n",
    "src_path = \"S:\\\\Projects\\\\MVC\\\\128x128_vae\\\\\"\n",
    "dst_path = \"S:\\\\Projects\\\\MVC\\\\128x128_gan\\\\\"\n",
    "\n",
    "count = 0\n",
    "\n",
    "for i in range(0, 10000, 4):\n",
    "    for j in range(4):\n",
    "        for k in range(4):\n",
    "            gt_img = np.array(Image.open(gt_path + str(i+j) + \".jpg\"))\n",
    "            src_img = np.array(Image.open(src_path + str(i+k) + \"_\" + str(j) + \".jpg\"))\n",
    "            im = np.concatenate((src_img, gt_img), axis=1)\n",
    "            scipy.misc.imsave(dst_path + str(count) + \".jpg\", im)\n",
    "            count += 1"
   ]
  },
  {
   "cell_type": "code",
   "execution_count": 11,
   "metadata": {},
   "outputs": [],
   "source": [
    "# Test\n",
    "\n",
    "path = \"S:\\\\Projects\\\\MVC\\\\64x64_test\\\\backup\\\\\"\n",
    "\n",
    "for file in os.listdir(path):\n",
    "    im = np.array(Image.open(path + file))\n",
    "    # A->B\n",
    "    #im[:,int(im.shape[1]/2):,:] = 255\n",
    "    # B->A\n",
    "    im = np.concatenate((np.full((im.shape[0], int(im.shape[1]/2), im.shape[2]), 255), im[:,int(im.shape[1]/2):,:]), axis=1)\n",
    "    scipy.misc.imsave(path + \"_\" + file, im)"
   ]
  }
 ],
 "metadata": {
  "kernelspec": {
   "display_name": "Python 3",
   "language": "python",
   "name": "python3"
  },
  "language_info": {
   "codemirror_mode": {
    "name": "ipython",
    "version": 3
   },
   "file_extension": ".py",
   "mimetype": "text/x-python",
   "name": "python",
   "nbconvert_exporter": "python",
   "pygments_lexer": "ipython3",
   "version": "3.5.4"
  }
 },
 "nbformat": 4,
 "nbformat_minor": 2
}
