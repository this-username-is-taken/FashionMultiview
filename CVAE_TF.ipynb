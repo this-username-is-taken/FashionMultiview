{
 "cells": [
  {
   "cell_type": "code",
   "execution_count": null,
   "metadata": {
    "collapsed": true
   },
   "outputs": [],
   "source": [
    "import os\n",
    "import json\n",
    "import numpy as np\n",
    "import tensorflow as tf\n",
    "\n",
    "from PIL import Image\n",
    "import matplotlib.pyplot as plt\n",
    "import matplotlib.gridspec as gridspec"
   ]
  },
  {
   "cell_type": "code",
   "execution_count": null,
   "metadata": {
    "collapsed": true
   },
   "outputs": [],
   "source": [
    "mvc_info = json.load(open(r\"S:\\Projects\\MVC\\mvc_info.json\"))"
   ]
  },
  {
   "cell_type": "code",
   "execution_count": null,
   "metadata": {
    "collapsed": true
   },
   "outputs": [],
   "source": [
    "mb_size = 20\n",
    "img_size = 64\n",
    "z_dim = 512\n",
    "X_dim = img_size * img_size\n",
    "y_dim = 8\n",
    "h_dim = 2048\n",
    "lr = 1e-5\n",
    "input_size = 10000"
   ]
  },
  {
   "cell_type": "code",
   "execution_count": null,
   "metadata": {},
   "outputs": [],
   "source": [
    "input_images = []\n",
    "input_labels = []\n",
    "for i in range(input_size):\n",
    "    input_images.append(np.array(Image.open(\"S:\\\\Projects\\\\MVC\\\\64x64_bw\\\\\" + str(i) + \".png\")).reshape(X_dim))\n",
    "    labels = np.zeros(y_dim)\n",
    "    labels[mvc_info[i][\"viewId\"]] = 1\n",
    "    input_labels.append(labels)\n",
    "input_images = np.array(input_images).astype(\"float32\") / 255.0\n",
    "input_labels = np.array(input_labels)"
   ]
  },
  {
   "cell_type": "code",
   "execution_count": null,
   "metadata": {
    "collapsed": true
   },
   "outputs": [],
   "source": [
    "def plot(samples):\n",
    "    fig = plt.figure(figsize=(16, 16))\n",
    "    gs = gridspec.GridSpec(4, 4)\n",
    "    gs.update(wspace=0.05, hspace=0.05)\n",
    "\n",
    "    for i, sample in enumerate(samples):\n",
    "        ax = plt.subplot(gs[i])\n",
    "        plt.axis('off')\n",
    "        ax.set_xticklabels([])\n",
    "        ax.set_yticklabels([])\n",
    "        ax.set_aspect('equal')\n",
    "        plt.imshow(sample.reshape(img_size, img_size), cmap='Greys_r')\n",
    "\n",
    "    return fig\n",
    "\n",
    "\n",
    "def xavier_init(size):\n",
    "    in_dim = size[0]\n",
    "    xavier_stddev = 1. / tf.sqrt(in_dim / 2.)\n",
    "    return tf.random_normal(shape=size, stddev=xavier_stddev)\n",
    "\n",
    "def Q(X, c):\n",
    "    inputs = tf.concat(axis=1, values=[X, c])\n",
    "    h = tf.nn.relu(tf.matmul(inputs, Q_W1) + Q_b1)\n",
    "    z_mu = tf.matmul(h, Q_W2_mu) + Q_b2_mu\n",
    "    z_logvar = tf.matmul(h, Q_W2_sigma) + Q_b2_sigma\n",
    "    return z_mu, z_logvar\n",
    "\n",
    "def P(z, c):\n",
    "    inputs = tf.concat(axis=1, values=[z, c])\n",
    "    h = tf.nn.relu(tf.matmul(inputs, P_W1) + P_b1)\n",
    "    logits = tf.matmul(h, P_W2) + P_b2\n",
    "    prob = tf.nn.sigmoid(logits)\n",
    "    return prob, logits\n",
    "\n",
    "def sample_z(mu, log_var):\n",
    "    eps = tf.random_normal(shape=tf.shape(mu))\n",
    "    return mu + tf.exp(log_var / 2) * eps\n"
   ]
  },
  {
   "cell_type": "code",
   "execution_count": null,
   "metadata": {
    "collapsed": true
   },
   "outputs": [],
   "source": [
    "tf.reset_default_graph()\n",
    "\n",
    "with tf.device('/device:GPU:3'):\n",
    "\n",
    "# =============================== Q(z|X) ======================================\n",
    "\n",
    "    X = tf.placeholder(tf.float32, shape=[None, X_dim])\n",
    "    c = tf.placeholder(tf.float32, shape=[None, y_dim])\n",
    "    z = tf.placeholder(tf.float32, shape=[None, z_dim])\n",
    "\n",
    "    Q_W1 = tf.Variable(xavier_init([X_dim + y_dim, h_dim]))\n",
    "    Q_b1 = tf.Variable(tf.zeros(shape=[h_dim]))\n",
    "\n",
    "    Q_W2_mu = tf.Variable(xavier_init([h_dim, z_dim]))\n",
    "    Q_b2_mu = tf.Variable(tf.zeros(shape=[z_dim]))\n",
    "\n",
    "    Q_W2_sigma = tf.Variable(xavier_init([h_dim, z_dim]))\n",
    "    Q_b2_sigma = tf.Variable(tf.zeros(shape=[z_dim]))\n",
    "\n",
    "\n",
    "    # =============================== P(X|z) ======================================\n",
    "\n",
    "    P_W1 = tf.Variable(xavier_init([z_dim + y_dim, h_dim]))\n",
    "    P_b1 = tf.Variable(tf.zeros(shape=[h_dim]))\n",
    "\n",
    "    P_W2 = tf.Variable(xavier_init([h_dim, X_dim]))\n",
    "    P_b2 = tf.Variable(tf.zeros(shape=[X_dim]))"
   ]
  },
  {
   "cell_type": "code",
   "execution_count": null,
   "metadata": {},
   "outputs": [],
   "source": [
    "# =============================== TRAINING ====================================\n",
    "\n",
    "with tf.device('/device:GPU:3'):\n",
    "    z_mu, z_logvar = Q(X, c)\n",
    "    z_sample = sample_z(z_mu, z_logvar)\n",
    "    _, logits = P(z_sample, c)\n",
    "\n",
    "    # Sampling from random z\n",
    "    X_samples, _ = P(z, c)\n",
    "\n",
    "    # E[log P(X|z)]\n",
    "    recon_loss = tf.reduce_sum(tf.nn.sigmoid_cross_entropy_with_logits(logits=logits, labels=X), 1)\n",
    "    # D_KL(Q(z|X) || P(z|X)); calculate in closed form as both dist. are Gaussian\n",
    "    kl_loss = 0.5 * tf.reduce_sum(tf.exp(z_logvar) + z_mu**2 - 1. - z_logvar, 1)\n",
    "    # VAE loss\n",
    "    vae_loss = tf.reduce_mean(recon_loss + kl_loss)\n",
    "\n",
    "    solver = tf.train.AdamOptimizer().minimize(vae_loss)\n",
    "\n",
    "saver = tf.train.Saver()\n",
    "\n",
    "sess = tf.Session()\n",
    "sess.run(tf.global_variables_initializer())\n",
    "\n",
    "if not os.path.exists('out/'):\n",
    "    os.makedirs('out/')\n",
    "\n",
    "i = 0\n",
    "cur = 0\n",
    "\n",
    "for it in range(1000000):\n",
    "    if cur == 0 or cur + mb_size == input_size:\n",
    "        cur = mb_size\n",
    "        X_mb = input_images[0:mb_size]\n",
    "        y_mb = input_labels[0:mb_size]\n",
    "    else:\n",
    "        cur = (cur + mb_size) % input_size\n",
    "        X_mb = input_images[cur-mb_size:cur]\n",
    "        y_mb = input_labels[cur-mb_size:cur]\n",
    "        \n",
    "\n",
    "    _, loss = sess.run([solver, vae_loss], feed_dict={X: X_mb, c: y_mb})\n",
    "\n",
    "    if it % 100 == 0:\n",
    "\n",
    "        y = np.zeros(shape=[16, y_dim])\n",
    "        idx = np.random.randint(0, 4)\n",
    "        y[:, idx] = 1.\n",
    "        \n",
    "        print('Iter: {}'.format(it) + '   Loss: {:.4}'. format(loss) + ',   Output ' + str(i) + ': ' + str(idx))\n",
    "\n",
    "        samples = sess.run(X_samples,\n",
    "                           feed_dict={z: np.random.randn(16, z_dim), c: y})\n",
    "        \n",
    "        saver.save(sess, \"checkpoints/model.ckpt\")\n",
    "\n",
    "        fig = plot(samples)\n",
    "        plt.savefig('out/{}.png'.format(str(i).zfill(3)), bbox_inches='tight')\n",
    "        i += 1\n",
    "        plt.close(fig)"
   ]
  },
  {
   "cell_type": "code",
   "execution_count": null,
   "metadata": {
    "collapsed": true
   },
   "outputs": [],
   "source": []
  }
 ],
 "metadata": {
  "kernelspec": {
   "display_name": "Python 3",
   "language": "python",
   "name": "python3"
  },
  "language_info": {
   "codemirror_mode": {
    "name": "ipython",
    "version": 3
   },
   "file_extension": ".py",
   "mimetype": "text/x-python",
   "name": "python",
   "nbconvert_exporter": "python",
   "pygments_lexer": "ipython3",
   "version": "3.5.4"
  }
 },
 "nbformat": 4,
 "nbformat_minor": 2
}
